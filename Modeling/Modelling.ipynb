{
 "cells": [
  {
   "cell_type": "markdown",
   "id": "bc160807",
   "metadata": {
    "id": "bc160807"
   },
   "source": [
    "## EDA and Prediction of US Accidents\n",
    "\n",
    "## Team: Jayatha Chandra, Avanti Dorle, Lavina Omprakash Talreja, Mansi Pravin Thanki"
   ]
  },
  {
   "cell_type": "code",
   "execution_count": 1,
   "id": "735a0526",
   "metadata": {
    "id": "735a0526"
   },
   "outputs": [],
   "source": [
    "import pandas as pd\n",
    "import numpy as np\n",
    "import matplotlib.pyplot as plt\n",
    "import seaborn as sns\n",
    "\n",
    "from sklearn.linear_model import LogisticRegression\n",
    "from sklearn.model_selection import train_test_split\n",
    "from sklearn.metrics import accuracy_score\n",
    "from sklearn.metrics import confusion_matrix, classification_report\n",
    "from sklearn.metrics import precision_score, recall_score, f1_score"
   ]
  },
  {
   "cell_type": "code",
   "execution_count": 3,
   "id": "85a65b77",
   "metadata": {
    "colab": {
     "base_uri": "https://localhost:8080/",
     "height": 317
    },
    "id": "85a65b77",
    "outputId": "b06835ad-1b42-44dc-f6a5-944cf6edcaf8"
   },
   "outputs": [
    {
     "data": {
      "text/html": [
       "<div>\n",
       "<style scoped>\n",
       "    .dataframe tbody tr th:only-of-type {\n",
       "        vertical-align: middle;\n",
       "    }\n",
       "\n",
       "    .dataframe tbody tr th {\n",
       "        vertical-align: top;\n",
       "    }\n",
       "\n",
       "    .dataframe thead th {\n",
       "        text-align: right;\n",
       "    }\n",
       "</style>\n",
       "<table border=\"1\" class=\"dataframe\">\n",
       "  <thead>\n",
       "    <tr style=\"text-align: right;\">\n",
       "      <th></th>\n",
       "      <th>Unnamed: 0</th>\n",
       "      <th>Severity</th>\n",
       "      <th>Start_Lat</th>\n",
       "      <th>Start_Lng</th>\n",
       "      <th>End_Lat</th>\n",
       "      <th>End_Lng</th>\n",
       "      <th>Distance.mi.</th>\n",
       "      <th>Temperature.F.</th>\n",
       "      <th>Wind_Chill.F.</th>\n",
       "      <th>Humidity</th>\n",
       "      <th>...</th>\n",
       "      <th>Roundabout</th>\n",
       "      <th>Station</th>\n",
       "      <th>Stop</th>\n",
       "      <th>Traffic_Calming</th>\n",
       "      <th>Traffic_Signal</th>\n",
       "      <th>Turning_Loop</th>\n",
       "      <th>Sunrise_Sunset</th>\n",
       "      <th>Civil_Twilight</th>\n",
       "      <th>Nautical_Twilight</th>\n",
       "      <th>Astronomical_Twilight</th>\n",
       "    </tr>\n",
       "  </thead>\n",
       "  <tbody>\n",
       "    <tr>\n",
       "      <th>0</th>\n",
       "      <td>1</td>\n",
       "      <td>High</td>\n",
       "      <td>40.108910</td>\n",
       "      <td>-83.092860</td>\n",
       "      <td>40.112060</td>\n",
       "      <td>-83.031870</td>\n",
       "      <td>3.230</td>\n",
       "      <td>42.1</td>\n",
       "      <td>36.100000</td>\n",
       "      <td>58.0</td>\n",
       "      <td>...</td>\n",
       "      <td>1</td>\n",
       "      <td>1</td>\n",
       "      <td>1</td>\n",
       "      <td>1</td>\n",
       "      <td>1</td>\n",
       "      <td>1</td>\n",
       "      <td>0</td>\n",
       "      <td>0</td>\n",
       "      <td>0</td>\n",
       "      <td>0</td>\n",
       "    </tr>\n",
       "    <tr>\n",
       "      <th>1</th>\n",
       "      <td>2</td>\n",
       "      <td>Low</td>\n",
       "      <td>39.865420</td>\n",
       "      <td>-84.062800</td>\n",
       "      <td>39.865010</td>\n",
       "      <td>-84.048730</td>\n",
       "      <td>0.747</td>\n",
       "      <td>36.9</td>\n",
       "      <td>59.658231</td>\n",
       "      <td>91.0</td>\n",
       "      <td>...</td>\n",
       "      <td>1</td>\n",
       "      <td>1</td>\n",
       "      <td>1</td>\n",
       "      <td>1</td>\n",
       "      <td>1</td>\n",
       "      <td>1</td>\n",
       "      <td>0</td>\n",
       "      <td>0</td>\n",
       "      <td>0</td>\n",
       "      <td>0</td>\n",
       "    </tr>\n",
       "    <tr>\n",
       "      <th>2</th>\n",
       "      <td>3</td>\n",
       "      <td>Low</td>\n",
       "      <td>39.102660</td>\n",
       "      <td>-84.524680</td>\n",
       "      <td>39.102090</td>\n",
       "      <td>-84.523960</td>\n",
       "      <td>0.055</td>\n",
       "      <td>36.0</td>\n",
       "      <td>59.658231</td>\n",
       "      <td>97.0</td>\n",
       "      <td>...</td>\n",
       "      <td>1</td>\n",
       "      <td>1</td>\n",
       "      <td>1</td>\n",
       "      <td>1</td>\n",
       "      <td>1</td>\n",
       "      <td>1</td>\n",
       "      <td>0</td>\n",
       "      <td>0</td>\n",
       "      <td>0</td>\n",
       "      <td>1</td>\n",
       "    </tr>\n",
       "    <tr>\n",
       "      <th>3</th>\n",
       "      <td>4</td>\n",
       "      <td>Low</td>\n",
       "      <td>41.062130</td>\n",
       "      <td>-81.537840</td>\n",
       "      <td>41.062170</td>\n",
       "      <td>-81.535470</td>\n",
       "      <td>0.123</td>\n",
       "      <td>39.0</td>\n",
       "      <td>59.658231</td>\n",
       "      <td>55.0</td>\n",
       "      <td>...</td>\n",
       "      <td>1</td>\n",
       "      <td>1</td>\n",
       "      <td>1</td>\n",
       "      <td>1</td>\n",
       "      <td>1</td>\n",
       "      <td>1</td>\n",
       "      <td>0</td>\n",
       "      <td>0</td>\n",
       "      <td>1</td>\n",
       "      <td>1</td>\n",
       "    </tr>\n",
       "    <tr>\n",
       "      <th>4</th>\n",
       "      <td>5</td>\n",
       "      <td>High</td>\n",
       "      <td>39.172393</td>\n",
       "      <td>-84.492792</td>\n",
       "      <td>39.170476</td>\n",
       "      <td>-84.501798</td>\n",
       "      <td>0.500</td>\n",
       "      <td>37.0</td>\n",
       "      <td>29.800000</td>\n",
       "      <td>93.0</td>\n",
       "      <td>...</td>\n",
       "      <td>1</td>\n",
       "      <td>1</td>\n",
       "      <td>1</td>\n",
       "      <td>1</td>\n",
       "      <td>1</td>\n",
       "      <td>1</td>\n",
       "      <td>1</td>\n",
       "      <td>1</td>\n",
       "      <td>1</td>\n",
       "      <td>1</td>\n",
       "    </tr>\n",
       "  </tbody>\n",
       "</table>\n",
       "<p>5 rows × 33 columns</p>\n",
       "</div>"
      ],
      "text/plain": [
       "   Unnamed: 0 Severity  Start_Lat  Start_Lng    End_Lat    End_Lng  \\\n",
       "0           1     High  40.108910 -83.092860  40.112060 -83.031870   \n",
       "1           2      Low  39.865420 -84.062800  39.865010 -84.048730   \n",
       "2           3      Low  39.102660 -84.524680  39.102090 -84.523960   \n",
       "3           4      Low  41.062130 -81.537840  41.062170 -81.535470   \n",
       "4           5     High  39.172393 -84.492792  39.170476 -84.501798   \n",
       "\n",
       "   Distance.mi.  Temperature.F.  Wind_Chill.F.  Humidity  ...  Roundabout  \\\n",
       "0         3.230            42.1      36.100000      58.0  ...           1   \n",
       "1         0.747            36.9      59.658231      91.0  ...           1   \n",
       "2         0.055            36.0      59.658231      97.0  ...           1   \n",
       "3         0.123            39.0      59.658231      55.0  ...           1   \n",
       "4         0.500            37.0      29.800000      93.0  ...           1   \n",
       "\n",
       "   Station  Stop  Traffic_Calming  Traffic_Signal  Turning_Loop  \\\n",
       "0        1     1                1               1             1   \n",
       "1        1     1                1               1             1   \n",
       "2        1     1                1               1             1   \n",
       "3        1     1                1               1             1   \n",
       "4        1     1                1               1             1   \n",
       "\n",
       "   Sunrise_Sunset  Civil_Twilight  Nautical_Twilight  Astronomical_Twilight  \n",
       "0               0               0                  0                      0  \n",
       "1               0               0                  0                      0  \n",
       "2               0               0                  0                      1  \n",
       "3               0               0                  1                      1  \n",
       "4               1               1                  1                      1  \n",
       "\n",
       "[5 rows x 33 columns]"
      ]
     },
     "metadata": {},
     "output_type": "display_data"
    }
   ],
   "source": [
    "modeling_data = pd.read_csv(\"modeling_data.csv\", na_values='')\n",
    "display(modeling_data.head())"
   ]
  },
  {
   "cell_type": "code",
   "execution_count": 4,
   "id": "30bf4af8",
   "metadata": {
    "colab": {
     "base_uri": "https://localhost:8080/"
    },
    "id": "30bf4af8",
    "outputId": "ed52572a-f02f-4a81-e08f-e472a2ee4c47"
   },
   "outputs": [
    {
     "data": {
      "text/plain": [
       "Index(['Unnamed: 0', 'Severity', 'Start_Lat', 'Start_Lng', 'End_Lat',\n",
       "       'End_Lng', 'Distance.mi.', 'Temperature.F.', 'Wind_Chill.F.',\n",
       "       'Humidity', 'Pressure', 'Visibility', 'Wind_Direction', 'Wind_Speed',\n",
       "       'Precipitation', 'Weather_Condition', 'Amenity', 'Bump', 'Crossing',\n",
       "       'Give_Way', 'Junction', 'No_Exit', 'Railway', 'Roundabout', 'Station',\n",
       "       'Stop', 'Traffic_Calming', 'Traffic_Signal', 'Turning_Loop',\n",
       "       'Sunrise_Sunset', 'Civil_Twilight', 'Nautical_Twilight',\n",
       "       'Astronomical_Twilight'],\n",
       "      dtype='object')"
      ]
     },
     "execution_count": 4,
     "metadata": {},
     "output_type": "execute_result"
    }
   ],
   "source": [
    "modeling_data.columns"
   ]
  },
  {
   "cell_type": "code",
   "execution_count": 5,
   "id": "01e04a4a",
   "metadata": {
    "colab": {
     "base_uri": "https://localhost:8080/"
    },
    "id": "01e04a4a",
    "outputId": "f1259e93-b1aa-47da-cdbb-2f7656b34f9b"
   },
   "outputs": [
    {
     "name": "stdout",
     "output_type": "stream",
     "text": [
      "<class 'pandas.core.frame.DataFrame'>\n",
      "RangeIndex: 2845342 entries, 0 to 2845341\n",
      "Data columns (total 33 columns):\n",
      " #   Column                 Dtype  \n",
      "---  ------                 -----  \n",
      " 0   Unnamed: 0             int64  \n",
      " 1   Severity               object \n",
      " 2   Start_Lat              float64\n",
      " 3   Start_Lng              float64\n",
      " 4   End_Lat                float64\n",
      " 5   End_Lng                float64\n",
      " 6   Distance.mi.           float64\n",
      " 7   Temperature.F.         float64\n",
      " 8   Wind_Chill.F.          float64\n",
      " 9   Humidity               float64\n",
      " 10  Pressure               float64\n",
      " 11  Visibility             float64\n",
      " 12  Wind_Direction         int64  \n",
      " 13  Wind_Speed             float64\n",
      " 14  Precipitation          float64\n",
      " 15  Weather_Condition      int64  \n",
      " 16  Amenity                int64  \n",
      " 17  Bump                   int64  \n",
      " 18  Crossing               int64  \n",
      " 19  Give_Way               int64  \n",
      " 20  Junction               int64  \n",
      " 21  No_Exit                int64  \n",
      " 22  Railway                int64  \n",
      " 23  Roundabout             int64  \n",
      " 24  Station                int64  \n",
      " 25  Stop                   int64  \n",
      " 26  Traffic_Calming        int64  \n",
      " 27  Traffic_Signal         int64  \n",
      " 28  Turning_Loop           int64  \n",
      " 29  Sunrise_Sunset         int64  \n",
      " 30  Civil_Twilight         int64  \n",
      " 31  Nautical_Twilight      int64  \n",
      " 32  Astronomical_Twilight  int64  \n",
      "dtypes: float64(12), int64(20), object(1)\n",
      "memory usage: 716.4+ MB\n"
     ]
    }
   ],
   "source": [
    "modeling_data.info()"
   ]
  },
  {
   "cell_type": "code",
   "execution_count": 6,
   "id": "0PnMFoAnJA-D",
   "metadata": {
    "colab": {
     "base_uri": "https://localhost:8080/"
    },
    "id": "0PnMFoAnJA-D",
    "outputId": "348c11a8-d8ec-468e-ebb3-76fbd78cb4ff"
   },
   "outputs": [
    {
     "data": {
      "text/plain": [
       "Unnamed: 0               0\n",
       "Severity                 0\n",
       "Start_Lat                0\n",
       "Start_Lng                0\n",
       "End_Lat                  0\n",
       "End_Lng                  0\n",
       "Distance.mi.             0\n",
       "Temperature.F.           0\n",
       "Wind_Chill.F.            0\n",
       "Humidity                 0\n",
       "Pressure                 0\n",
       "Visibility               0\n",
       "Wind_Direction           0\n",
       "Wind_Speed               0\n",
       "Precipitation            0\n",
       "Weather_Condition        0\n",
       "Amenity                  0\n",
       "Bump                     0\n",
       "Crossing                 0\n",
       "Give_Way                 0\n",
       "Junction                 0\n",
       "No_Exit                  0\n",
       "Railway                  0\n",
       "Roundabout               0\n",
       "Station                  0\n",
       "Stop                     0\n",
       "Traffic_Calming          0\n",
       "Traffic_Signal           0\n",
       "Turning_Loop             0\n",
       "Sunrise_Sunset           0\n",
       "Civil_Twilight           0\n",
       "Nautical_Twilight        0\n",
       "Astronomical_Twilight    0\n",
       "dtype: int64"
      ]
     },
     "execution_count": 6,
     "metadata": {},
     "output_type": "execute_result"
    }
   ],
   "source": [
    "modeling_data.dropna(axis=0)\n",
    "modeling_data.isna().sum()\n"
   ]
  },
  {
   "cell_type": "code",
   "execution_count": null,
   "id": "b662be96",
   "metadata": {
    "colab": {
     "base_uri": "https://localhost:8080/"
    },
    "id": "b662be96",
    "outputId": "1b3dd5e3-7e60-48a0-c805-9c608e26b3a2"
   },
   "outputs": [
    {
     "name": "stdout",
     "output_type": "stream",
     "text": [
      "Accuracy: 0.9360218180923578\n"
     ]
    }
   ],
   "source": [
    "from sklearn.ensemble import RandomForestClassifier\n",
    "\n",
    "# Separate features and target variable\n",
    "X = modeling_data.drop('Severity', axis=1)\n",
    "y = modeling_data['Severity']\n",
    "\n",
    "# Split the data into training, validation, and test sets\n",
    "X_train, X_test, y_train, y_test = train_test_split(X, y, test_size=0.2, random_state=42)\n",
    "\n",
    "# Create a Random Forest classifier\n",
    "rf_clf = RandomForestClassifier(n_estimators=100, random_state=42)\n",
    "\n",
    "# Fit the classifier to the training data\n",
    "rf_clf.fit(X_train, y_train)\n",
    "\n",
    "# Make predictions on the testing data\n",
    "y_pred_test = rf_clf.predict(X_test)\n",
    "\n",
    "# Calculate accuracy of the classifier\n",
    "accuracy = accuracy_score(y_test, y_pred_test)\n",
    "print(\"Accuracy:\", accuracy)\n",
    "\n"
   ]
  },
  {
   "cell_type": "code",
   "execution_count": 11,
   "id": "302dd03b",
   "metadata": {
    "colab": {
     "base_uri": "https://localhost:8080/"
    },
    "id": "302dd03b",
    "outputId": "5b2d5c1b-dbdf-4e39-e76d-0475c32a09e7"
   },
   "outputs": [
    {
     "name": "stdout",
     "output_type": "stream",
     "text": [
      "Accuracy: 0.9360218180923578\n",
      "Confusion Matrix:\n",
      " [[ 31232  25888]\n",
      " [ 10520 501429]]\n",
      "Classification Report:\n",
      "               precision    recall  f1-score   support\n",
      "\n",
      "        High       0.75      0.55      0.63     57120\n",
      "         Low       0.95      0.98      0.96    511949\n",
      "\n",
      "    accuracy                           0.94    569069\n",
      "   macro avg       0.85      0.76      0.80    569069\n",
      "weighted avg       0.93      0.94      0.93    569069\n",
      "\n"
     ]
    }
   ],
   "source": [
    "# Calculate accuracy, precision, recall, and F1-score on testing set\n",
    "accuracy_test = accuracy_score(y_test, y_pred_test)\n",
    "\n",
    "print(\"Accuracy:\",accuracy_test)\n",
    "\n",
    "# calculate confusion matrix\n",
    "cm = confusion_matrix(y_test, y_pred_test)\n",
    "print(\"Confusion Matrix:\\n\", cm)\n",
    "\n",
    "# calculate classification report\n",
    "cr = classification_report(y_test, y_pred_test)\n",
    "print(\"Classification Report:\\n\", cr)\n"
   ]
  },
  {
   "cell_type": "code",
   "execution_count": 12,
   "id": "nq4TiIF5g7Gf",
   "metadata": {
    "colab": {
     "base_uri": "https://localhost:8080/",
     "height": 564
    },
    "id": "nq4TiIF5g7Gf",
    "outputId": "91b8b43b-150f-43fc-fc13-755252d223ee"
   },
   "outputs": [
    {
     "data": {
      "image/png": "[encoded data removed]",
      "text/plain": [
       "<Figure size 800x600 with 2 Axes>"
      ]
     },
     "metadata": {},
     "output_type": "display_data"
    }
   ],
   "source": [
    "import matplotlib.pyplot as plt\n",
    "import seaborn as sns\n",
    "\n",
    "# create heatmap of confusion matrix\n",
    "plt.figure(figsize=(8,6))\n",
    "sns.heatmap(cm, annot=True, cmap='Blues')\n",
    "plt.title('Confusion Matrix')\n",
    "plt.xlabel('Predicted Labels')\n",
    "plt.ylabel('True Labels')\n",
    "plt.show()"
   ]
  },
  {
   "cell_type": "code",
   "execution_count": 13,
   "id": "AuQ9dyAUH6G3",
   "metadata": {
    "colab": {
     "base_uri": "https://localhost:8080/"
    },
    "id": "AuQ9dyAUH6G3",
    "outputId": "036d215f-5c52-4947-c371-f527dc5120e9"
   },
   "outputs": [
    {
     "name": "stdout",
     "output_type": "stream",
     "text": [
      "Accuracy: 0.9360218180923578\n",
      "Classification Report:\n",
      "               precision    recall  f1-score   support\n",
      "\n",
      "        High       0.75      0.55      0.63     57120\n",
      "         Low       0.95      0.98      0.96    511949\n",
      "\n",
      "    accuracy                           0.94    569069\n",
      "   macro avg       0.85      0.76      0.80    569069\n",
      "weighted avg       0.93      0.94      0.93    569069\n",
      "\n",
      "Macro-average Precision: 0.8494711066895253\n",
      "Macro-average Recall: 0.7631148948096649\n",
      "Macro-average F1 Score: 0.7983669535132445\n"
     ]
    }
   ],
   "source": [
    "accuracy_test = accuracy_score(y_test, y_pred_test)\n",
    "\n",
    "print(\"Accuracy:\",accuracy_test)\n",
    "\n",
    "# calculate classification report\n",
    "cr = classification_report(y_test, y_pred_test)\n",
    "print(\"Classification Report:\\n\", cr)\n",
    "\n",
    "# calculate macro-average precision, recall, and F1 score\n",
    "macro_prec = precision_score(y_test, y_pred_test, average='macro')\n",
    "macro_rec = recall_score(y_test, y_pred_test, average='macro')\n",
    "macro_f1 = f1_score(y_test, y_pred_test, average='macro')\n",
    "print(\"Macro-average Precision:\", macro_prec)\n",
    "print(\"Macro-average Recall:\", macro_rec)\n",
    "print(\"Macro-average F1 Score:\", macro_f1)"
   ]
  },
  {
   "cell_type": "code",
   "execution_count": 14,
   "id": "4zEqGDNodRZ2",
   "metadata": {
    "id": "4zEqGDNodRZ2"
   },
   "outputs": [],
   "source": [
    "rfc_scores = [accuracy_test, macro_prec, macro_rec, macro_f1]\n"
   ]
  },
  {
   "cell_type": "code",
   "execution_count": 15,
   "id": "WP5qVtWBPw5Y",
   "metadata": {
    "colab": {
     "base_uri": "https://localhost:8080/"
    },
    "id": "WP5qVtWBPw5Y",
    "outputId": "b5cb1d94-da0b-4299-a2f8-2d3461e6c966"
   },
   "outputs": [
    {
     "name": "stderr",
     "output_type": "stream",
     "text": [
      "/usr/local/lib/python3.9/dist-packages/sklearn/model_selection/_search.py:952: UserWarning: One or more of the test scores are non-finite: [nan nan nan nan]\n",
      "  warnings.warn(\n"
     ]
    },
    {
     "name": "stdout",
     "output_type": "stream",
     "text": [
      "Best hyperparameters: {'C': 0.001, 'penalty': 'l2', 'solver': 'lbfgs'}\n",
      "Accuracy: 0.7497068494927872\n",
      "Precision: 0.6437644116152734\n",
      "Recall: 0.2863799158524288\n",
      "F1 score: 0.39641417483905905\n"
     ]
    }
   ],
   "source": [
    "# Import the necessary libraries\n",
    "import pandas as pd\n",
    "from sklearn.model_selection import train_test_split, GridSearchCV\n",
    "from sklearn.preprocessing import StandardScaler\n",
    "from imblearn.under_sampling import RandomUnderSampler\n",
    "from sklearn.linear_model import LogisticRegression\n",
    "from sklearn.metrics import accuracy_score, precision_score, recall_score, f1_score\n",
    "\n",
    "# Read the data into a Pandas DataFrame\n",
    "data = pd.read_csv('modeling_data.csv')\n",
    "\n",
    "# Separate the features and target variable\n",
    "X = data.drop(['Severity'], axis=1)\n",
    "y = data['Severity']\n",
    "\n",
    "# Undersample the majority class\n",
    "rus = RandomUnderSampler(sampling_strategy=0.4)\n",
    "X_resampled, y_resampled = rus.fit_resample(X, y)\n",
    "\n",
    "# Split the data into training and testing sets\n",
    "X_train, X_test, y_train, y_test = train_test_split(X_resampled, y_resampled, test_size=0.2, random_state=42)\n",
    "\n",
    "# Scale the data using StandardScaler\n",
    "scaler = StandardScaler()\n",
    "X_train_scaled = scaler.fit_transform(X_train)\n",
    "X_test_scaled = scaler.transform(X_test)\n",
    "\n",
    "# Set up the hyperparameter grid\n",
    "hyperparameters = {\n",
    "    'C': [0.001],\n",
    "    'penalty': ['l2', 'none'],\n",
    "    'solver': ['lbfgs','newton-cg']\n",
    "}\n",
    "\n",
    "# Perform grid search with cross-validation to find the best hyperparameters\n",
    "model = LogisticRegression(max_iter=3000)\n",
    "grid_search = GridSearchCV(model, hyperparameters, cv=5, n_jobs=-1, scoring='f1')\n",
    "grid_search.fit(X_train_scaled, y_train)\n",
    "\n",
    "# Make predictions on the testing data using the best model\n",
    "y_pred = grid_search.predict(X_test_scaled)\n",
    "\n",
    "# Evaluate the performance of the model using metrics such as accuracy, precision, recall, and F1 score\n",
    "accuracy = accuracy_score(y_test, y_pred)\n",
    "precision = precision_score(y_test, y_pred, pos_label='High')\n",
    "recall = recall_score(y_test, y_pred, pos_label='High')\n",
    "f1 = f1_score(y_test, y_pred, pos_label='High')\n",
    "\n",
    "print(\"Best hyperparameters:\", grid_search.best_params_)\n",
    "print(\"Accuracy:\", accuracy)\n",
    "print(\"Precision:\", precision)\n",
    "print(\"Recall:\", recall)\n",
    "print(\"F1 score:\", f1)\n"
   ]
  },
  {
   "cell_type": "code",
   "execution_count": 16,
   "id": "EkX4PNYPcem-",
   "metadata": {
    "colab": {
     "base_uri": "https://localhost:8080/"
    },
    "id": "EkX4PNYPcem-",
    "outputId": "ed13ed7c-dfdf-4fef-a1fe-97fa71185eb1"
   },
   "outputs": [
    {
     "name": "stdout",
     "output_type": "stream",
     "text": [
      "Accuracy: 0.7497068494927872\n",
      "Confusion Matrix:\n",
      " [[ 16472  41046]\n",
      " [  9115 133776]]\n",
      "Classification Report:\n",
      "               precision    recall  f1-score   support\n",
      "\n",
      "        High       0.64      0.29      0.40     57518\n",
      "         Low       0.77      0.94      0.84    142891\n",
      "\n",
      "    accuracy                           0.75    200409\n",
      "   macro avg       0.70      0.61      0.62    200409\n",
      "weighted avg       0.73      0.75      0.71    200409\n",
      "\n",
      "Macro-average Precision: 0.7044885139381923\n",
      "Macro-average Recall: 0.6112950170272075\n",
      "Macro-average F1 Score: 0.619266345303217\n",
      "Micro-average Precision: 0.7497068494927872\n",
      "Micro-average Recall: 0.7497068494927872\n",
      "Micro-average F1 Score: 0.7497068494927872\n"
     ]
    }
   ],
   "source": [
    "# Calculate accuracy, precision, recall, and F1-score on testing set\n",
    "accuracy_test = accuracy_score(y_test, y_pred)\n",
    "print(\"Accuracy:\",accuracy_test)\n",
    "\n",
    "# calculate confusion matrix\n",
    "cm = confusion_matrix(y_test, y_pred)\n",
    "print(\"Confusion Matrix:\\n\", cm)\n",
    "\n",
    "# calculate classification report\n",
    "cr = classification_report(y_test, y_pred)\n",
    "print(\"Classification Report:\\n\", cr)\n",
    "\n",
    "# calculate macro-average precision, recall, and F1 score\n",
    "macro_prec = precision_score(y_test, y_pred, average='macro')\n",
    "macro_rec = recall_score(y_test, y_pred, average='macro')\n",
    "macro_f1 = f1_score(y_test, y_pred, average='macro')\n",
    "print(\"Macro-average Precision:\", macro_prec)\n",
    "print(\"Macro-average Recall:\", macro_rec)\n",
    "print(\"Macro-average F1 Score:\", macro_f1)\n",
    "\n",
    "# calculate micro-average precision, recall, and F1 score\n",
    "micro_prec = precision_score(y_test, y_pred, average='micro')\n",
    "micro_rec = recall_score(y_test, y_pred, average='micro')\n",
    "micro_f1 = f1_score(y_test, y_pred, average='micro')\n",
    "print(\"Micro-average Precision:\", micro_prec)\n",
    "print(\"Micro-average Recall:\", micro_rec)\n",
    "print(\"Micro-average F1 Score:\", micro_f1)\n"
   ]
  },
  {
   "cell_type": "code",
   "execution_count": 17,
   "id": "vZuObynngew-",
   "metadata": {
    "id": "vZuObynngew-"
   },
   "outputs": [],
   "source": [
    "logistic_scores = [accuracy_test, macro_prec, macro_rec, macro_f1]"
   ]
  },
  {
   "cell_type": "code",
   "execution_count": 18,
   "id": "1l9KHgUonqN5",
   "metadata": {
    "colab": {
     "base_uri": "https://localhost:8080/"
    },
    "id": "1l9KHgUonqN5",
    "outputId": "70ba5ebc-e745-4c5a-ee0d-2ef10aaf4a5b"
   },
   "outputs": [
    {
     "data": {
      "text/plain": [
       "[0.7497068494927872, 0.7044885139381923, 0.6112950170272075, 0.619266345303217]"
      ]
     },
     "execution_count": 18,
     "metadata": {},
     "output_type": "execute_result"
    }
   ],
   "source": [
    "logistic_scores"
   ]
  },
  {
   "cell_type": "code",
   "execution_count": 19,
   "id": "AwU3O-8vn5aa",
   "metadata": {
    "colab": {
     "base_uri": "https://localhost:8080/",
     "height": 564
    },
    "id": "AwU3O-8vn5aa",
    "outputId": "d14b3ebd-2b7b-4761-dbb5-b10c4e532ddd"
   },
   "outputs": [
    {
     "data": {
      "image/png": "[encoded data removed]",
      "text/plain": [
       "<Figure size 800x600 with 2 Axes>"
      ]
     },
     "metadata": {},
     "output_type": "display_data"
    }
   ],
   "source": [
    "import matplotlib.pyplot as plt\n",
    "import seaborn as sns\n",
    "\n",
    "# create heatmap of confusion matrix\n",
    "plt.figure(figsize=(8,6))\n",
    "sns.heatmap(cm, annot=True, cmap='Blues')\n",
    "plt.title('Confusion Matrix')\n",
    "plt.xlabel('Predicted Labels')\n",
    "plt.ylabel('True Labels')\n",
    "plt.show()"
   ]
  },
  {
   "cell_type": "code",
   "execution_count": 22,
   "id": "kbcmV5YgdSyF",
   "metadata": {
    "colab": {
     "base_uri": "https://localhost:8080/",
     "height": 487
    },
    "id": "kbcmV5YgdSyF",
    "outputId": "65731899-4b79-4a2a-813e-de2c0879a6f5"
   },
   "outputs": [
    {
     "data": {
      "image/png": "[encoded data removed]",
      "text/plain": [
       "<Figure size 640x480 with 1 Axes>"
      ]
     },
     "metadata": {},
     "output_type": "display_data"
    }
   ],
   "source": [
    "import numpy as np\n",
    "import matplotlib.pyplot as plt\n",
    "\n",
    "labels = ['accuracy', 'macro_prec', 'macro_rec', 'macro_f1'] # replace with your own list of labels\n",
    "x = np.arange(len(labels))  # the label locations\n",
    "width = 0.35  # the width of the bars\n",
    "\n",
    "fig, ax = plt.subplots()\n",
    "rects1 = ax.bar(x - width/2, logistic_scores, width, label='Logistic Regression')\n",
    "rects2 = ax.bar(x + width/2, rfc_scores, width, label='Random Forest')\n",
    "\n",
    "# Add some text for labels, title and custom x-axis tick labels, etc.\n",
    "ax.set_ylabel('Score')\n",
    "ax.set_title('Model Comparison')\n",
    "ax.set_xticks(x)\n",
    "ax.set_xticklabels(labels)\n",
    "ax.legend()\n",
    "\n",
    "fig.tight_layout()\n",
    "\n",
    "plt.show()\n"
   ]
  }
 ],
 "metadata": {
  "colab": {
   "provenance": []
  },
  "kernelspec": {
   "display_name": "Python 3 (ipykernel)",
   "language": "python",
   "name": "python3"
  },
  "language_info": {
   "codemirror_mode": {
    "name": "ipython",
    "version": 3
   },
   "file_extension": ".py",
   "mimetype": "text/x-python",
   "name": "python",
   "nbconvert_exporter": "python",
   "pygments_lexer": "ipython3",
   "version": "3.8.12"
  }
 },
 "nbformat": 4,
 "nbformat_minor": 5
}
